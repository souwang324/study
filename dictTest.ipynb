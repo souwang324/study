{
 "cells": [
  {
   "cell_type": "code",
   "execution_count": 1,
   "metadata": {},
   "outputs": [
    {
     "name": "stdout",
     "output_type": "stream",
     "text": [
      "{}\n",
      "{}\n"
     ]
    }
   ],
   "source": [
    "x ={}\n",
    "print(x)\n",
    "y = dict()\n",
    "print(y)"
   ]
  },
  {
   "cell_type": "code",
   "execution_count": 2,
   "metadata": {},
   "outputs": [
    {
     "name": "stdout",
     "output_type": "stream",
     "text": [
      "{'health': 490, 'mana': 334, 'melee': 550, 'armor': 18.72}\n"
     ]
    }
   ],
   "source": [
    "lux1 = dict(health=490, mana=334,melee=550,armor=18.72)\n",
    "print(lux1)"
   ]
  },
  {
   "cell_type": "code",
   "execution_count": 4,
   "metadata": {},
   "outputs": [
    {
     "name": "stdout",
     "output_type": "stream",
     "text": [
      "{'health': 490, 'mana': 334, 'melee': 550, 'armor': 18.72}\n"
     ]
    }
   ],
   "source": [
    "lux2 = dict(zip(['health', 'mana','melee','armor'],[490, 334, 550, 18.72]))\n",
    "print(lux2)"
   ]
  },
  {
   "cell_type": "code",
   "execution_count": 7,
   "metadata": {},
   "outputs": [
    {
     "name": "stdout",
     "output_type": "stream",
     "text": [
      "{'health': 490, 'mana': 334, 'melee': 550, 'armor': 18.72}\n",
      "490\n"
     ]
    },
    {
     "data": {
      "text/plain": [
       "4"
      ]
     },
     "execution_count": 7,
     "metadata": {},
     "output_type": "execute_result"
    }
   ],
   "source": [
    "lux3 = dict({'health':490, 'mana':334, 'melee':550, 'armor':18.72})\n",
    "print(lux3)\n",
    "print(lux3['health'])\n",
    "len(lux3)"
   ]
  },
  {
   "cell_type": "code",
   "execution_count": 8,
   "metadata": {},
   "outputs": [
    {
     "name": "stdout",
     "output_type": "stream",
     "text": [
      "575.6\n",
      "340\n"
     ]
    }
   ],
   "source": [
    "camille = {\n",
    "    'health': 575.6,\n",
    "    'health_regen': 1.7,\n",
    "    'mana': 338.8,\n",
    "    'mana_regen': 1.63,\n",
    "    'melee': 125,\n",
    "    'attack_damage': 60,\n",
    "    'attack_speed': 0.625,\n",
    "    'armor': 26,\n",
    "    'magic_resistance': 32.1,\n",
    "    'movement_speed': 340\n",
    "}\n",
    "\n",
    "print(camille['health'])\n",
    "print(camille['movement_speed'])"
   ]
  },
  {
   "cell_type": "code",
   "execution_count": 9,
   "metadata": {},
   "outputs": [
    {
     "name": "stdout",
     "output_type": "stream",
     "text": [
      "0 1 2 3 4 5 6 7 8 9 "
     ]
    }
   ],
   "source": [
    "for i in range(10):\n",
    "    print(i, end=' ')\n",
    "    i = 10"
   ]
  },
  {
   "cell_type": "code",
   "execution_count": 13,
   "metadata": {},
   "outputs": [
    {
     "name": "stdout",
     "output_type": "stream",
     "text": [
      "[0, 1, 2, 3, 4, 5, 6, 7, 8, 9]\n",
      "<reversed object at 0x7f404c57d5d0>\n"
     ]
    }
   ],
   "source": [
    "a = list(range(10))\n",
    "print(a)\n",
    "print(reversed('python'))\n"
   ]
  },
  {
   "cell_type": "code",
   "execution_count": 16,
   "metadata": {},
   "outputs": [
    {
     "name": "stdout",
     "output_type": "stream",
     "text": [
      "1\n",
      "5\n",
      "1\n",
      "2\n",
      "5\n",
      "5\n",
      "3\n"
     ]
    }
   ],
   "source": [
    "import random    # random 모듈을 가져옴\n",
    "\n",
    "i = 0\n",
    "while i != 3:    # 3이 아닐 때 계속 반복\n",
    "    i = random.randint(1, 6)    # randint를 사용하여 1과 6 사이의 난수를 생성\n",
    "    print(i)"
   ]
  },
  {
   "cell_type": "code",
   "execution_count": 18,
   "metadata": {},
   "outputs": [
    {
     "name": "stdout",
     "output_type": "stream",
     "text": [
      "0.23435959386612526\n"
     ]
    }
   ],
   "source": [
    "print(random.random())"
   ]
  },
  {
   "cell_type": "code",
   "execution_count": 19,
   "metadata": {},
   "outputs": [
    {
     "name": "stdout",
     "output_type": "stream",
     "text": [
      "4\n"
     ]
    }
   ],
   "source": [
    "print(random.randint(1, 6))"
   ]
  },
  {
   "cell_type": "code",
   "execution_count": 22,
   "metadata": {},
   "outputs": [
    {
     "name": "stdout",
     "output_type": "stream",
     "text": [
      "[1, 2, 3, 4, 5, 6]\n"
     ]
    }
   ],
   "source": [
    "dice =list(range(1,7))\n",
    "print(dice)"
   ]
  },
  {
   "cell_type": "code",
   "execution_count": 24,
   "metadata": {},
   "outputs": [
    {
     "name": "stdout",
     "output_type": "stream",
     "text": [
      "4\n"
     ]
    }
   ],
   "source": [
    "print(random.choice(dice))"
   ]
  },
  {
   "cell_type": "code",
   "execution_count": 25,
   "metadata": {},
   "outputs": [
    {
     "name": "stdout",
     "output_type": "stream",
     "text": [
      "2\n"
     ]
    }
   ],
   "source": [
    "print(random.choice(dice))"
   ]
  },
  {
   "cell_type": "code",
   "execution_count": 27,
   "metadata": {},
   "outputs": [
    {
     "name": "stdout",
     "output_type": "stream",
     "text": [
      "0\n",
      "1\n",
      "2\n",
      "3\n",
      "4\n",
      "5\n",
      "6\n",
      "7\n",
      "8\n",
      "9\n"
     ]
    }
   ],
   "source": [
    "for i in range(10):    # 0부터 9999까지 반복\n",
    "    print(i)\n",
    "    if i == 10:    # i가 100일 때\n",
    "        break       # 반복문을 끝냄. for의 제어흐름을 벗어남"
   ]
  },
  {
   "cell_type": "code",
   "execution_count": 28,
   "metadata": {},
   "outputs": [
    {
     "name": "stdout",
     "output_type": "stream",
     "text": [
      "0\n",
      "1\n",
      "2\n",
      "3\n",
      "4\n",
      "5\n",
      "6\n",
      "7\n",
      "8\n",
      "9\n"
     ]
    }
   ],
   "source": [
    "i = 0\n",
    "while True:    # 무한 루프\n",
    "    print(i)\n",
    "    i += 1          # i를 1씩 증가시킴\n",
    "    if i == 10:    # i가 100일 때\n",
    "        break       # 반복문을 끝냄. while의 제어흐름을 벗어남"
   ]
  },
  {
   "cell_type": "code",
   "execution_count": 29,
   "metadata": {},
   "outputs": [
    {
     "name": "stdout",
     "output_type": "stream",
     "text": [
      "1\n",
      "3\n",
      "5\n",
      "7\n",
      "9\n"
     ]
    }
   ],
   "source": [
    "for i in range(10):       # 0부터 99까지 증가하면서 100번 반복\n",
    "    if i % 2 == 0:         # i를 2로 나누었을 때 나머지가 0면 짝수\n",
    "        continue           # 아래 코드를 실행하지 않고 건너뜀\n",
    "    print(i)\n"
   ]
  },
  {
   "cell_type": "code",
   "execution_count": 30,
   "metadata": {},
   "outputs": [
    {
     "name": "stdout",
     "output_type": "stream",
     "text": [
      "3 13 23 33 43 53 63 73 "
     ]
    }
   ],
   "source": [
    "i = 0\n",
    "while True:\n",
    "    if i % 10 != 3:\n",
    "        i += 1\n",
    "        continue\n",
    "\n",
    "    if i > 73:\n",
    "        break\n",
    "    print(i, end=' ')\n",
    "    i += 1\n"
   ]
  },
  {
   "cell_type": "code",
   "execution_count": 31,
   "metadata": {},
   "outputs": [
    {
     "name": "stdout",
     "output_type": "stream",
     "text": [
      "j:0 j:1 j:2 j:3 j:4 i:0\\n\n",
      "j:0 j:1 j:2 j:3 j:4 i:1\\n\n",
      "j:0 j:1 j:2 j:3 j:4 i:2\\n\n",
      "j:0 j:1 j:2 j:3 j:4 i:3\\n\n",
      "j:0 j:1 j:2 j:3 j:4 i:4\\n\n"
     ]
    }
   ],
   "source": [
    "for i in range(5):          # 5번 반복. 바깥쪽 루프는 세로 방향\n",
    "    for j in range(5):      # 5번 반복. 안쪽 루프는 가로 방향\n",
    "        print('j:', j, sep='', end=' ')    # j값 출력. end에 ' '를 지정하여 줄바꿈 대신 한 칸 띄움\n",
    "    print('i:', i, '\\\\n', sep='')    # i값 출력, 개행 문자 모양도 출력\n",
    "                                     # 가로 방향으로 숫자를 모두 출력한 뒤 다음 줄로 넘어감\n",
    "                                     # (print는 기본적으로 출력 후 다음 줄로 넘어감)"
   ]
  },
  {
   "cell_type": "code",
   "execution_count": 32,
   "metadata": {},
   "outputs": [
    {
     "name": "stdout",
     "output_type": "stream",
     "text": [
      "*****\n",
      "*****\n",
      "*****\n",
      "*****\n",
      "*****\n"
     ]
    }
   ],
   "source": [
    "for i in range(5):            # 5번 반복. 바깥쪽 루프는 세로 방향\n",
    "    for j in range(5):        # 5번 반복. 안쪽 루프는 가로 방향\n",
    "        print('*', end='')    # 별 출력. end에 ''를 지정하여 줄바꿈을 하지 않음\n",
    "    print()    # 가로 방향으로 별을 다 그린 뒤 다음 줄로 넘어감\n",
    "               # (print는 출력 후 기본적으로 다음 줄로 넘어감)"
   ]
  },
  {
   "cell_type": "code",
   "execution_count": 33,
   "metadata": {},
   "outputs": [
    {
     "name": "stdout",
     "output_type": "stream",
     "text": [
      "*******\n",
      "*******\n",
      "*******\n"
     ]
    }
   ],
   "source": [
    "for i in range(3):            # 3번 반복. 세로 방향\n",
    "    for j in range(7):        # 7번 반복. 가로 방향\n",
    "        print('*', end='')    # 별 출력. end에 ''를 지정하여 줄바꿈을 하지 않음\n",
    "    print()    # 가로 방향으로 별을 다 그린 뒤 다음 줄로 넘어감\n",
    "               # (print는 출력 후 기본적으로 다음 줄로 넘어감)"
   ]
  },
  {
   "cell_type": "code",
   "execution_count": 34,
   "metadata": {},
   "outputs": [
    {
     "name": "stdout",
     "output_type": "stream",
     "text": [
      "*\n",
      "**\n",
      "***\n",
      "****\n",
      "*****\n"
     ]
    }
   ],
   "source": [
    "for i in range(5):        # 0부터 4까지 5번 반복. 세로 방향\n",
    "    for j in range(5):    # 0부터 4까지 5번 반복. 가로 방향\n",
    "        if j <= i:                # 세로 방향 변수 i만큼\n",
    "            print('*', end='')    # 별 출력. end에 ''를 지정하여 줄바꿈을 하지 않음\n",
    "    print()    # 가로 방향으로 별을 다 그린 뒤 다음 줄로 넘어감\n",
    "               # (print는 출력 후 기본적으로 다음 줄로 넘어감)"
   ]
  },
  {
   "cell_type": "code",
   "execution_count": 35,
   "metadata": {},
   "outputs": [
    {
     "name": "stdout",
     "output_type": "stream",
     "text": [
      "*    \n",
      " *   \n",
      "  *  \n",
      "   * \n",
      "    *\n"
     ]
    }
   ],
   "source": [
    "for i in range(5):        # 0부터 4까지 5번 반복. 세로 방향\n",
    "    for j in range(5):    # 0부터 4까지 5번 반복. 가로 방향\n",
    "        if j == i:                # 세로 방향 변수와 같을 때\n",
    "            print('*', end='')    # 별 출력. end에 ''를 지정하여 줄바꿈을 하지 않음\n",
    "        else:                     # 세로 방향 변수와 다를 때\n",
    "            print(' ', end='')    # 공백 출력. end에 ''를 지정하여 줄바꿈을 하지 않음\n",
    "    print()    # 가로 방향으로 별을 다 그린 뒤 다음 줄로 넘어감\n",
    "               # (print는 출력 후 기본적으로 다음 줄로 넘어감)\n"
   ]
  },
  {
   "cell_type": "code",
   "execution_count": 36,
   "metadata": {},
   "outputs": [
    {
     "name": "stdout",
     "output_type": "stream",
     "text": [
      "*****\n",
      " ****\n",
      "  ***\n",
      "   **\n",
      "    *\n"
     ]
    }
   ],
   "source": [
    "for i in range(5):\n",
    "    for j in range(5):\n",
    "        if j < i:\n",
    "            print(' ', end='')\n",
    "        else:\n",
    "            print('*', end='')\n",
    "    print()\n"
   ]
  },
  {
   "cell_type": "code",
   "execution_count": null,
   "metadata": {},
   "outputs": [],
   "source": []
  }
 ],
 "metadata": {
  "kernelspec": {
   "display_name": "Python 3",
   "language": "python",
   "name": "python3"
  },
  "language_info": {
   "codemirror_mode": {
    "name": "ipython",
    "version": 3
   },
   "file_extension": ".py",
   "mimetype": "text/x-python",
   "name": "python",
   "nbconvert_exporter": "python",
   "pygments_lexer": "ipython3",
   "version": "3.7.6"
  }
 },
 "nbformat": 4,
 "nbformat_minor": 4
}
