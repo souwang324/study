{
 "cells": [
  {
   "cell_type": "code",
   "execution_count": 17,
   "metadata": {},
   "outputs": [],
   "source": [
    "import turtle as t\n",
    "t.shape('turtle')\n",
    "t.forward(100)\n",
    "t.right(90)\n",
    "t.forward(100)\n",
    "t.right(90)\n",
    "t.forward(100)\n",
    "t.right(90)\n",
    "t.forward(100)\n",
    "t.right(90)"
   ]
  },
  {
   "cell_type": "code",
   "execution_count": 13,
   "metadata": {},
   "outputs": [],
   "source": [
    "t.shape('turtle')\n",
    "for i in range(4):    # 사각형이므로 4번 반복\n",
    "    t.forward(100)\n",
    "    t.right(90)"
   ]
  },
  {
   "cell_type": "code",
   "execution_count": 19,
   "metadata": {},
   "outputs": [],
   "source": [
    "t.shape('turtle')\n",
    "for i in range(5):      # 오각형이므로 5번 반복\n",
    "    t.forward(100)\n",
    "    t.right(360 / 5)    # 360을 5로 나누어서 외각을 구함"
   ]
  },
  {
   "cell_type": "code",
   "execution_count": 20,
   "metadata": {},
   "outputs": [],
   "source": [
    "n = 6    # 육각형\n",
    "t.shape('turtle')\n",
    "t.color('red')          # 펜의 색을 빨간색으로 설정\n",
    "t.begin_fill()          # 색칠할 영역 시작\n",
    "for i in range(n):      # n번 반복\n",
    "    t.forward(100)\n",
    "    t.right(360 / n)    # 360을 n으로 나누어서 외각을 구함\n",
    "t.end_fill()            # 색칠할 영역 끝"
   ]
  },
  {
   "cell_type": "code",
   "execution_count": 21,
   "metadata": {},
   "outputs": [],
   "source": [
    "import turtle as t\n",
    "\n",
    "t.shape('turtle')\n",
    "t.speed('fastest')      # 거북이 속도를 가장 빠르게 설정\n",
    "for i in range(300):    # 300번 반복\n",
    "    t.forward(i)        # i만큼 앞으로 이동. 반복할 때마다 선이 길어짐\n",
    "    t.right(91)         # 오른쪽으로 91도 회전"
   ]
  },
  {
   "cell_type": "code",
   "execution_count": 22,
   "metadata": {},
   "outputs": [],
   "source": [
    "import turtle as t\n",
    "\n",
    "n = 60    # 원을 60번 그림\n",
    "t.shape('turtle')\n",
    "t.speed('fastest')      # 거북이 속도를 가장 빠르게 설정\n",
    "for i in range(n):\n",
    "    t.circle(120)       # 반지름이 120인 원을 그림\n",
    "    t.right(360 / n)    # 오른쪽으로 6도 회전"
   ]
  },
  {
   "cell_type": "code",
   "execution_count": null,
   "metadata": {},
   "outputs": [],
   "source": [
    "n, line = map(int, input().split())\n",
    "t.shape('turtle')\n",
    "t.speed('fastest')"
   ]
  },
  {
   "cell_type": "code",
   "execution_count": null,
   "metadata": {},
   "outputs": [],
   "source": []
  }
 ],
 "metadata": {
  "kernelspec": {
   "display_name": "Python 3",
   "language": "python",
   "name": "python3"
  },
  "language_info": {
   "codemirror_mode": {
    "name": "ipython",
    "version": 3
   },
   "file_extension": ".py",
   "mimetype": "text/x-python",
   "name": "python",
   "nbconvert_exporter": "python",
   "pygments_lexer": "ipython3",
   "version": "3.7.6"
  }
 },
 "nbformat": 4,
 "nbformat_minor": 4
}
